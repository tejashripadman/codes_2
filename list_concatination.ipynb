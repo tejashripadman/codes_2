{
 "cells": [
  {
   "cell_type": "code",
   "execution_count": 17,
   "id": "81ed1c4d",
   "metadata": {},
   "outputs": [],
   "source": [
    "list1 = [\"M\", \"na\", \"i\", \"Ke\"]\n",
    "list2 = [\"y\", \"me\", \"s\", \"lly\"]"
   ]
  },
  {
   "cell_type": "markdown",
   "id": "d40fbcbd",
   "metadata": {},
   "source": [
    "Methods to concatinate lists indexwise"
   ]
  },
  {
   "cell_type": "code",
   "execution_count": 18,
   "id": "32ca357c",
   "metadata": {},
   "outputs": [
    {
     "name": "stdout",
     "output_type": "stream",
     "text": [
      "My\n",
      "name\n",
      "is\n",
      "Kelly\n"
     ]
    }
   ],
   "source": [
    "for i,j in zip(list1,list2):\n",
    "    print(i+j)"
   ]
  },
  {
   "cell_type": "code",
   "execution_count": 19,
   "id": "e1cda250",
   "metadata": {},
   "outputs": [],
   "source": [
    "def list_concatinatiion(list1,list2):\n",
    "    l = []\n",
    "    for i,j in zip(list1,list2):\n",
    "        l.append(i+j)\n",
    "    return l"
   ]
  },
  {
   "cell_type": "code",
   "execution_count": 21,
   "id": "43175a94",
   "metadata": {},
   "outputs": [],
   "source": [
    "def list_concatinatiion(list1,list2):\n",
    "    return [i+j for i,j in zip(list1,list2)]"
   ]
  },
  {
   "cell_type": "code",
   "execution_count": 29,
   "id": "263d1778",
   "metadata": {},
   "outputs": [
    {
     "data": {
      "text/plain": [
       "[]"
      ]
     },
     "execution_count": 29,
     "metadata": {},
     "output_type": "execute_result"
    }
   ],
   "source": [
    "list_concatinatiion(list1,list2)"
   ]
  },
  {
   "cell_type": "code",
   "execution_count": 25,
   "id": "2f5a8574",
   "metadata": {},
   "outputs": [],
   "source": [
    "def list_concatinatiion(list1,list2):\n",
    "    l = []\n",
    "    i = 0\n",
    "    while i < len(list1):\n",
    "        l.append(list1[i]+list2[i])\n",
    "        i += 1\n",
    "    return l"
   ]
  },
  {
   "cell_type": "code",
   "execution_count": 32,
   "id": "64acdce8",
   "metadata": {},
   "outputs": [],
   "source": [
    "def list_concatinatiion(list1,list2):\n",
    "    l = []\n",
    "    for i,k in enumerate(list1):\n",
    "        for j,m in enumerate(list2):\n",
    "            if i == j:\n",
    "                l.append(list1[i]+list2[j])\n",
    "    return l"
   ]
  },
  {
   "cell_type": "code",
   "execution_count": 35,
   "id": "a1c0b79a",
   "metadata": {},
   "outputs": [
    {
     "data": {
      "text/plain": [
       "['My', 'name', 'is', 'Kelly']"
      ]
     },
     "execution_count": 35,
     "metadata": {},
     "output_type": "execute_result"
    }
   ],
   "source": [
    "list_concatinatiion(list1,list2)"
   ]
  },
  {
   "cell_type": "code",
   "execution_count": 34,
   "id": "a27f8d6b",
   "metadata": {},
   "outputs": [],
   "source": [
    "def list_concatinatiion(list1,list2):\n",
    "    l = []\n",
    "    for i in range(len(list1)):\n",
    "        for j in range(len(list2)):\n",
    "            if i == j:\n",
    "                l.append(list1[i]+list2[j])\n",
    "    return l"
   ]
  },
  {
   "cell_type": "code",
   "execution_count": null,
   "id": "0dd51c96",
   "metadata": {},
   "outputs": [],
   "source": []
  }
 ],
 "metadata": {
  "kernelspec": {
   "display_name": "Python 3 (ipykernel)",
   "language": "python",
   "name": "python3"
  },
  "language_info": {
   "codemirror_mode": {
    "name": "ipython",
    "version": 3
   },
   "file_extension": ".py",
   "mimetype": "text/x-python",
   "name": "python",
   "nbconvert_exporter": "python",
   "pygments_lexer": "ipython3",
   "version": "3.11.3"
  }
 },
 "nbformat": 4,
 "nbformat_minor": 5
}
