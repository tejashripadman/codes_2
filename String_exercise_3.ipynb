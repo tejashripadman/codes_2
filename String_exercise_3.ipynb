{
 "cells": [
  {
   "cell_type": "markdown",
   "id": "11d1b01f",
   "metadata": {},
   "source": [
    "How to Remove Letters From a String in Python"
   ]
  },
  {
   "cell_type": "code",
   "execution_count": 1,
   "id": "187deae1",
   "metadata": {},
   "outputs": [],
   "source": [
    "string = 'Geeks123For123Geeks'"
   ]
  },
  {
   "cell_type": "code",
   "execution_count": 2,
   "id": "893ca912",
   "metadata": {},
   "outputs": [
    {
     "data": {
      "text/plain": [
       "'Geeks23For23Geeks'"
      ]
     },
     "execution_count": 2,
     "metadata": {},
     "output_type": "execute_result"
    }
   ],
   "source": [
    "for i,j in enumerate(string):\n",
    "    if i == 5:\n",
    "        string = string.replace(j,'')\n",
    "string\n",
    "    "
   ]
  },
  {
   "cell_type": "code",
   "execution_count": 3,
   "id": "107518fa",
   "metadata": {},
   "outputs": [],
   "source": [
    "for i in range(len(string)):\n",
    "    if i == 5:\n",
    "        string = string.replace(string[i],'')"
   ]
  },
  {
   "cell_type": "code",
   "execution_count": 4,
   "id": "3b007051",
   "metadata": {},
   "outputs": [
    {
     "data": {
      "text/plain": [
       "'Geeks3For3Geeks'"
      ]
     },
     "execution_count": 4,
     "metadata": {},
     "output_type": "execute_result"
    }
   ],
   "source": [
    "string"
   ]
  },
  {
   "cell_type": "code",
   "execution_count": 5,
   "id": "1eb02f08",
   "metadata": {},
   "outputs": [],
   "source": [
    "string = string[:5]+string[6:]"
   ]
  },
  {
   "cell_type": "code",
   "execution_count": 6,
   "id": "192b279b",
   "metadata": {},
   "outputs": [
    {
     "data": {
      "text/plain": [
       "'GeeksFor3Geeks'"
      ]
     },
     "execution_count": 6,
     "metadata": {},
     "output_type": "execute_result"
    }
   ],
   "source": [
    "string"
   ]
  },
  {
   "cell_type": "code",
   "execution_count": 7,
   "id": "6533d5f0",
   "metadata": {},
   "outputs": [
    {
     "data": {
      "text/plain": [
       "'Geeksor3Geeks'"
      ]
     },
     "execution_count": 7,
     "metadata": {},
     "output_type": "execute_result"
    }
   ],
   "source": [
    "l = []\n",
    "l.extend(string)\n",
    "for i,j in enumerate(l[:]):\n",
    "    if i == 5:\n",
    "        l.remove(j)\n",
    "string = ''.join(l)\n",
    "string"
   ]
  },
  {
   "cell_type": "code",
   "execution_count": null,
   "id": "cb85ee66",
   "metadata": {},
   "outputs": [],
   "source": []
  }
 ],
 "metadata": {
  "kernelspec": {
   "display_name": "Python 3 (ipykernel)",
   "language": "python",
   "name": "python3"
  },
  "language_info": {
   "codemirror_mode": {
    "name": "ipython",
    "version": 3
   },
   "file_extension": ".py",
   "mimetype": "text/x-python",
   "name": "python",
   "nbconvert_exporter": "python",
   "pygments_lexer": "ipython3",
   "version": "3.11.3"
  }
 },
 "nbformat": 4,
 "nbformat_minor": 5
}
