{
 "cells": [
  {
   "cell_type": "markdown",
   "id": "11d1b01f",
   "metadata": {},
   "source": [
    "Python | Cloning or Copying a list"
   ]
  },
  {
   "cell_type": "code",
   "execution_count": 1,
   "id": "187deae1",
   "metadata": {},
   "outputs": [],
   "source": [
    "lst = [15, 6, 7, 10, 12, 20, 10, 28, 10] "
   ]
  },
  {
   "cell_type": "code",
   "execution_count": 2,
   "id": "40f324e9",
   "metadata": {},
   "outputs": [],
   "source": [
    "l = lst[:]"
   ]
  },
  {
   "cell_type": "code",
   "execution_count": 3,
   "id": "d3c6704b",
   "metadata": {},
   "outputs": [],
   "source": [
    "l1 = lst.copy()"
   ]
  },
  {
   "cell_type": "code",
   "execution_count": 4,
   "id": "c0433ceb",
   "metadata": {},
   "outputs": [],
   "source": [
    "from copy import deepcopy"
   ]
  },
  {
   "cell_type": "code",
   "execution_count": 5,
   "id": "b139a818",
   "metadata": {},
   "outputs": [],
   "source": [
    "l2 = deepcopy(lst)"
   ]
  },
  {
   "cell_type": "code",
   "execution_count": 6,
   "id": "72bd4e98",
   "metadata": {},
   "outputs": [
    {
     "data": {
      "text/plain": [
       "([15, 6, 7, 10, 12, 20, 10, 28, 10],\n",
       " [15, 6, 7, 10, 12, 20, 10, 28, 10],\n",
       " [15, 6, 7, 10, 12, 20, 10, 28, 10])"
      ]
     },
     "execution_count": 6,
     "metadata": {},
     "output_type": "execute_result"
    }
   ],
   "source": [
    "l,l1,l2"
   ]
  },
  {
   "cell_type": "code",
   "execution_count": null,
   "id": "a101a68a",
   "metadata": {},
   "outputs": [],
   "source": []
  }
 ],
 "metadata": {
  "kernelspec": {
   "display_name": "Python 3 (ipykernel)",
   "language": "python",
   "name": "python3"
  },
  "language_info": {
   "codemirror_mode": {
    "name": "ipython",
    "version": 3
   },
   "file_extension": ".py",
   "mimetype": "text/x-python",
   "name": "python",
   "nbconvert_exporter": "python",
   "pygments_lexer": "ipython3",
   "version": "3.11.3"
  }
 },
 "nbformat": 4,
 "nbformat_minor": 5
}
