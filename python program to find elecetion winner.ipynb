{
 "cells": [
  {
   "cell_type": "markdown",
   "id": "11d1b01f",
   "metadata": {},
   "source": [
    "python program to find elecetion winner"
   ]
  },
  {
   "cell_type": "code",
   "execution_count": 4,
   "id": "5a231ca2",
   "metadata": {},
   "outputs": [],
   "source": [
    "vote = ['john','johnny','jackie','johnny',\n",
    "            'john','jackie','jamie','jamie',\n",
    "            'john','johnny','jamie','johnny',\n",
    "            'john']"
   ]
  },
  {
   "cell_type": "code",
   "execution_count": 6,
   "id": "8cf2d996",
   "metadata": {},
   "outputs": [
    {
     "name": "stdout",
     "output_type": "stream",
     "text": [
      "winner is johnny\n",
      "winner is john\n"
     ]
    }
   ],
   "source": [
    "set_vote = set(vote)\n",
    "\n",
    "d = {i:vote.count(i) for i in set_vote}\n",
    "\n",
    "maximum = max(d.values())\n",
    "l = []\n",
    "for i,v in d.items():\n",
    "    if v == maximum:\n",
    "        l.append(i)\n",
    "if len(l) > 1:\n",
    "    print('there is tie situation in election')\n",
    "else:\n",
    "    print('the winner of ele')"
   ]
  },
  {
   "cell_type": "code",
   "execution_count": 7,
   "id": "1bce9455",
   "metadata": {},
   "outputs": [
    {
     "data": {
      "text/plain": [
       "{'johnny': 4, 'jamie': 3, 'jackie': 2, 'john': 4}"
      ]
     },
     "execution_count": 7,
     "metadata": {},
     "output_type": "execute_result"
    }
   ],
   "source": [
    "d"
   ]
  },
  {
   "cell_type": "code",
   "execution_count": null,
   "id": "f90d04be",
   "metadata": {},
   "outputs": [],
   "source": []
  }
 ],
 "metadata": {
  "kernelspec": {
   "display_name": "Python 3 (ipykernel)",
   "language": "python",
   "name": "python3"
  },
  "language_info": {
   "codemirror_mode": {
    "name": "ipython",
    "version": 3
   },
   "file_extension": ".py",
   "mimetype": "text/x-python",
   "name": "python",
   "nbconvert_exporter": "python",
   "pygments_lexer": "ipython3",
   "version": "3.11.3"
  }
 },
 "nbformat": 4,
 "nbformat_minor": 5
}
