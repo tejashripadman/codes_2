{
 "cells": [
  {
   "cell_type": "code",
   "execution_count": 11,
   "id": "81ed1c4d",
   "metadata": {},
   "outputs": [],
   "source": [
    "list1 = [100, 200, 300, 400, 500]"
   ]
  },
  {
   "cell_type": "markdown",
   "id": "d40fbcbd",
   "metadata": {},
   "source": [
    "Methods to reverse the list"
   ]
  },
  {
   "cell_type": "code",
   "execution_count": 2,
   "id": "66ca5a9a",
   "metadata": {},
   "outputs": [],
   "source": [
    "def reverse_list(list1):\n",
    "    return list1[::-1]"
   ]
  },
  {
   "cell_type": "code",
   "execution_count": 3,
   "id": "94498ef1",
   "metadata": {},
   "outputs": [
    {
     "data": {
      "text/plain": [
       "[500, 400, 300, 200, 100]"
      ]
     },
     "execution_count": 3,
     "metadata": {},
     "output_type": "execute_result"
    }
   ],
   "source": [
    "reverse_list(list1)"
   ]
  },
  {
   "cell_type": "code",
   "execution_count": 4,
   "id": "580fbb17",
   "metadata": {},
   "outputs": [],
   "source": [
    "def reverse_list(list1):\n",
    "    list1.sort(reverse=True)\n",
    "    return list1"
   ]
  },
  {
   "cell_type": "code",
   "execution_count": 5,
   "id": "397e3a4e",
   "metadata": {},
   "outputs": [
    {
     "data": {
      "text/plain": [
       "[500, 400, 300, 200, 100]"
      ]
     },
     "execution_count": 5,
     "metadata": {},
     "output_type": "execute_result"
    }
   ],
   "source": [
    "reverse_list(list1)"
   ]
  },
  {
   "cell_type": "code",
   "execution_count": 6,
   "id": "ca3d1e89",
   "metadata": {},
   "outputs": [],
   "source": [
    "def reverse_list(list1):\n",
    "    return list(reversed(list1))"
   ]
  },
  {
   "cell_type": "code",
   "execution_count": 7,
   "id": "268f4b31",
   "metadata": {},
   "outputs": [
    {
     "data": {
      "text/plain": [
       "[100, 200, 300, 400, 500]"
      ]
     },
     "execution_count": 7,
     "metadata": {},
     "output_type": "execute_result"
    }
   ],
   "source": [
    "reverse_list(list1)"
   ]
  },
  {
   "cell_type": "code",
   "execution_count": 13,
   "id": "b41ce301",
   "metadata": {},
   "outputs": [],
   "source": [
    "def reverse_list(list1):\n",
    "    list1.reverse()\n",
    "    return list1"
   ]
  },
  {
   "cell_type": "code",
   "execution_count": 14,
   "id": "d232cd27",
   "metadata": {},
   "outputs": [
    {
     "data": {
      "text/plain": [
       "[100, 200, 300, 400, 500]"
      ]
     },
     "execution_count": 14,
     "metadata": {},
     "output_type": "execute_result"
    }
   ],
   "source": [
    "reverse_list(list1)"
   ]
  },
  {
   "cell_type": "code",
   "execution_count": null,
   "id": "cb95b5d5",
   "metadata": {},
   "outputs": [],
   "source": []
  }
 ],
 "metadata": {
  "kernelspec": {
   "display_name": "Python 3 (ipykernel)",
   "language": "python",
   "name": "python3"
  },
  "language_info": {
   "codemirror_mode": {
    "name": "ipython",
    "version": 3
   },
   "file_extension": ".py",
   "mimetype": "text/x-python",
   "name": "python",
   "nbconvert_exporter": "python",
   "pygments_lexer": "ipython3",
   "version": "3.11.3"
  }
 },
 "nbformat": 4,
 "nbformat_minor": 5
}
