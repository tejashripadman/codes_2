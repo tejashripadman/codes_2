{
 "cells": [
  {
   "cell_type": "markdown",
   "id": "11d1b01f",
   "metadata": {},
   "source": [
    "python program to find key with maximum unique values"
   ]
  },
  {
   "cell_type": "code",
   "execution_count": 12,
   "id": "fd3608bb",
   "metadata": {},
   "outputs": [],
   "source": [
    "test_dict = {\"Gfg\" : [5, 7, 9, 4, 0], \"is\" : [6, 7, 4, 3, 3], \"Best\" : [9, 9, 6, 5, 5]}"
   ]
  },
  {
   "cell_type": "code",
   "execution_count": 13,
   "id": "4ae37a9b",
   "metadata": {},
   "outputs": [
    {
     "data": {
      "text/plain": [
       "{'Gfg': 5, 'is': 4, 'Best': 3}"
      ]
     },
     "execution_count": 13,
     "metadata": {},
     "output_type": "execute_result"
    }
   ],
   "source": [
    "d = {i:len(set(test_dict[i])) for i in test_dict.keys()}\n",
    "d"
   ]
  },
  {
   "cell_type": "code",
   "execution_count": 14,
   "id": "c1567605",
   "metadata": {},
   "outputs": [],
   "source": [
    "maximum = max(d.values())"
   ]
  },
  {
   "cell_type": "code",
   "execution_count": 15,
   "id": "da379f38",
   "metadata": {},
   "outputs": [
    {
     "name": "stdout",
     "output_type": "stream",
     "text": [
      "Gfg\n"
     ]
    }
   ],
   "source": [
    "for i,j in d.items():\n",
    "    if j == maximum:\n",
    "        print(i)"
   ]
  },
  {
   "cell_type": "code",
   "execution_count": null,
   "id": "29e3308d",
   "metadata": {},
   "outputs": [],
   "source": []
  }
 ],
 "metadata": {
  "kernelspec": {
   "display_name": "Python 3 (ipykernel)",
   "language": "python",
   "name": "python3"
  },
  "language_info": {
   "codemirror_mode": {
    "name": "ipython",
    "version": 3
   },
   "file_extension": ".py",
   "mimetype": "text/x-python",
   "name": "python",
   "nbconvert_exporter": "python",
   "pygments_lexer": "ipython3",
   "version": "3.11.3"
  }
 },
 "nbformat": 4,
 "nbformat_minor": 5
}
