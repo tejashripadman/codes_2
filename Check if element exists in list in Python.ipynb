{
 "cells": [
  {
   "cell_type": "markdown",
   "id": "11d1b01f",
   "metadata": {},
   "source": [
    "Check if element exists in list in Python"
   ]
  },
  {
   "cell_type": "code",
   "execution_count": 2,
   "id": "f1eafd28",
   "metadata": {},
   "outputs": [],
   "source": [
    "test_list = [1, 6, 3, 5, 3, 4]\n",
    "element = 3"
   ]
  },
  {
   "cell_type": "code",
   "execution_count": 4,
   "id": "af3b6307",
   "metadata": {},
   "outputs": [
    {
     "data": {
      "text/plain": [
       "True"
      ]
     },
     "execution_count": 4,
     "metadata": {},
     "output_type": "execute_result"
    }
   ],
   "source": [
    "def element_finder(test_list,element):\n",
    "    if element in test_list:\n",
    "        return True\n",
    "    else:\n",
    "        return False\n",
    "element_finder(test_list,element)"
   ]
  },
  {
   "cell_type": "code",
   "execution_count": 6,
   "id": "63f926f3",
   "metadata": {},
   "outputs": [
    {
     "data": {
      "text/plain": [
       "True"
      ]
     },
     "execution_count": 6,
     "metadata": {},
     "output_type": "execute_result"
    }
   ],
   "source": [
    "def element_finder(test_list,element):\n",
    "    return True if element in test_list else False\n",
    "element_finder(test_list,element)"
   ]
  },
  {
   "cell_type": "code",
   "execution_count": null,
   "id": "940f2e05",
   "metadata": {},
   "outputs": [],
   "source": []
  }
 ],
 "metadata": {
  "kernelspec": {
   "display_name": "Python 3 (ipykernel)",
   "language": "python",
   "name": "python3"
  },
  "language_info": {
   "codemirror_mode": {
    "name": "ipython",
    "version": 3
   },
   "file_extension": ".py",
   "mimetype": "text/x-python",
   "name": "python",
   "nbconvert_exporter": "python",
   "pygments_lexer": "ipython3",
   "version": "3.11.3"
  }
 },
 "nbformat": 4,
 "nbformat_minor": 5
}
