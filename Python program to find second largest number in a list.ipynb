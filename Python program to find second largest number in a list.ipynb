{
 "cells": [
  {
   "cell_type": "markdown",
   "id": "11d1b01f",
   "metadata": {},
   "source": [
    "Python program to find second largest number in a list"
   ]
  },
  {
   "cell_type": "code",
   "execution_count": 1,
   "id": "27290719",
   "metadata": {},
   "outputs": [],
   "source": [
    "lst = [10, 20, 4]"
   ]
  },
  {
   "cell_type": "code",
   "execution_count": 2,
   "id": "83f11940",
   "metadata": {},
   "outputs": [
    {
     "name": "stdout",
     "output_type": "stream",
     "text": [
      "10\n"
     ]
    }
   ],
   "source": [
    "if len(lst) < 1:\n",
    "    print(lst)\n",
    "elif len(lst) == 1:\n",
    "    print(lst[0])\n",
    "elif len(lst) > 1:\n",
    "    lst.sort()\n",
    "    print(lst[-2])"
   ]
  },
  {
   "cell_type": "code",
   "execution_count": null,
   "id": "8b6f550b",
   "metadata": {},
   "outputs": [],
   "source": []
  }
 ],
 "metadata": {
  "kernelspec": {
   "display_name": "Python 3 (ipykernel)",
   "language": "python",
   "name": "python3"
  },
  "language_info": {
   "codemirror_mode": {
    "name": "ipython",
    "version": 3
   },
   "file_extension": ".py",
   "mimetype": "text/x-python",
   "name": "python",
   "nbconvert_exporter": "python",
   "pygments_lexer": "ipython3",
   "version": "3.11.3"
  }
 },
 "nbformat": 4,
 "nbformat_minor": 5
}
