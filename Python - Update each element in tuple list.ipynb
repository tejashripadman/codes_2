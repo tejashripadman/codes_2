{
 "cells": [
  {
   "cell_type": "markdown",
   "id": "11d1b01f",
   "metadata": {},
   "source": [
    "Python | Update each element in tuple list"
   ]
  },
  {
   "cell_type": "code",
   "execution_count": 1,
   "id": "a6ff4f96",
   "metadata": {},
   "outputs": [],
   "source": [
    "test_list = [(1, 3, 4), (2, 4, 6), (3, 8, 1)]"
   ]
  },
  {
   "cell_type": "code",
   "execution_count": 2,
   "id": "7b0951d2",
   "metadata": {},
   "outputs": [],
   "source": [
    "k = 4"
   ]
  },
  {
   "cell_type": "code",
   "execution_count": 4,
   "id": "f44d8774",
   "metadata": {},
   "outputs": [
    {
     "data": {
      "text/plain": [
       "[(5, 7, 8), (6, 8, 10), (7, 12, 5)]"
      ]
     },
     "execution_count": 4,
     "metadata": {},
     "output_type": "execute_result"
    }
   ],
   "source": [
    "l = []\n",
    "for i in test_list:\n",
    "    l1 = []\n",
    "    for j in i:\n",
    "        l1.append(j+k)\n",
    "    l.append(tuple(l1))\n",
    "    \n",
    "l"
   ]
  },
  {
   "cell_type": "code",
   "execution_count": 5,
   "id": "8c69a1af",
   "metadata": {},
   "outputs": [
    {
     "data": {
      "text/plain": [
       "[(5, 7, 8), (6, 8, 10), (7, 12, 5)]"
      ]
     },
     "execution_count": 5,
     "metadata": {},
     "output_type": "execute_result"
    }
   ],
   "source": [
    "[tuple(i+k for i in element) for element in test_list]"
   ]
  },
  {
   "cell_type": "code",
   "execution_count": null,
   "id": "a4a3819e",
   "metadata": {},
   "outputs": [],
   "source": []
  }
 ],
 "metadata": {
  "kernelspec": {
   "display_name": "Python 3 (ipykernel)",
   "language": "python",
   "name": "python3"
  },
  "language_info": {
   "codemirror_mode": {
    "name": "ipython",
    "version": 3
   },
   "file_extension": ".py",
   "mimetype": "text/x-python",
   "name": "python",
   "nbconvert_exporter": "python",
   "pygments_lexer": "ipython3",
   "version": "3.11.3"
  }
 },
 "nbformat": 4,
 "nbformat_minor": 5
}
