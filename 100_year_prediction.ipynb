{
 "cells": [
  {
   "cell_type": "markdown",
   "id": "6788bc8b",
   "metadata": {},
   "source": [
    "Create a program that asks the user to enter their name and their age. Print out a message addressed to them that tells them the year that they will turn 100 years old. "
   ]
  },
  {
   "cell_type": "code",
   "execution_count": 12,
   "id": "652c6004",
   "metadata": {},
   "outputs": [
    {
     "name": "stdout",
     "output_type": "stream",
     "text": [
      "enter your nameTejashri\n",
      "enter your age30\n",
      "heyTejashri, you will be 100 years old in 2093\n"
     ]
    }
   ],
   "source": [
    "name = input('enter your name')\n",
    "age = int(input('enter your age'))\n",
    "\n",
    "import datetime\n",
    "\n",
    "present_year = int(datetime.datetime.today().year)\n",
    "delta = 100 - age\n",
    "\n",
    "print(f'hey{name}, you will be 100 years old in {present_year+delta}')"
   ]
  },
  {
   "cell_type": "code",
   "execution_count": 11,
   "id": "aec8b6a9",
   "metadata": {},
   "outputs": [
    {
     "data": {
      "text/plain": [
       "2023"
      ]
     },
     "execution_count": 11,
     "metadata": {},
     "output_type": "execute_result"
    }
   ],
   "source": []
  },
  {
   "cell_type": "code",
   "execution_count": null,
   "id": "b776791d",
   "metadata": {},
   "outputs": [],
   "source": []
  }
 ],
 "metadata": {
  "kernelspec": {
   "display_name": "Python 3 (ipykernel)",
   "language": "python",
   "name": "python3"
  },
  "language_info": {
   "codemirror_mode": {
    "name": "ipython",
    "version": 3
   },
   "file_extension": ".py",
   "mimetype": "text/x-python",
   "name": "python",
   "nbconvert_exporter": "python",
   "pygments_lexer": "ipython3",
   "version": "3.11.3"
  }
 },
 "nbformat": 4,
 "nbformat_minor": 5
}
