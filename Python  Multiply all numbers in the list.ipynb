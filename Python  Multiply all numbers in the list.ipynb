{
 "cells": [
  {
   "cell_type": "markdown",
   "id": "11d1b01f",
   "metadata": {},
   "source": [
    "Python | Multiply all numbers in the list"
   ]
  },
  {
   "cell_type": "code",
   "execution_count": 1,
   "id": "27290719",
   "metadata": {},
   "outputs": [],
   "source": [
    "lst = [15, 6, 7, 10, 12, 20, 10, 28, 10]"
   ]
  },
  {
   "cell_type": "code",
   "execution_count": 2,
   "id": "d4d9d9bc",
   "metadata": {},
   "outputs": [
    {
     "data": {
      "text/plain": [
       "4233600000"
      ]
     },
     "execution_count": 2,
     "metadata": {},
     "output_type": "execute_result"
    }
   ],
   "source": [
    "if len(lst) == 0:\n",
    "    mul = 0\n",
    "elif len(lst) == 1:\n",
    "    mul = lst[0]\n",
    "else:\n",
    "    mul = lst[0]\n",
    "    for i in lst[1:]:\n",
    "        mul *= i\n",
    "mul"
   ]
  },
  {
   "cell_type": "code",
   "execution_count": 3,
   "id": "3cf890a7",
   "metadata": {},
   "outputs": [],
   "source": [
    "import numpy as np"
   ]
  },
  {
   "cell_type": "code",
   "execution_count": 5,
   "id": "433dbd7b",
   "metadata": {},
   "outputs": [
    {
     "data": {
      "text/plain": [
       "6"
      ]
     },
     "execution_count": 5,
     "metadata": {},
     "output_type": "execute_result"
    }
   ],
   "source": [
    "mul = np.prod([1,2,3])\n",
    "mul"
   ]
  },
  {
   "cell_type": "code",
   "execution_count": null,
   "id": "599ff71a",
   "metadata": {},
   "outputs": [],
   "source": []
  }
 ],
 "metadata": {
  "kernelspec": {
   "display_name": "Python 3 (ipykernel)",
   "language": "python",
   "name": "python3"
  },
  "language_info": {
   "codemirror_mode": {
    "name": "ipython",
    "version": 3
   },
   "file_extension": ".py",
   "mimetype": "text/x-python",
   "name": "python",
   "nbconvert_exporter": "python",
   "pygments_lexer": "ipython3",
   "version": "3.11.3"
  }
 },
 "nbformat": 4,
 "nbformat_minor": 5
}
