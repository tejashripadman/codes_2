{
 "cells": [
  {
   "cell_type": "markdown",
   "id": "11d1b01f",
   "metadata": {},
   "source": [
    "sum of integers in list"
   ]
  },
  {
   "cell_type": "code",
   "execution_count": 13,
   "id": "27290719",
   "metadata": {},
   "outputs": [],
   "source": [
    "l = [12, 67, 98, 34]"
   ]
  },
  {
   "cell_type": "code",
   "execution_count": 14,
   "id": "a1d7c67f",
   "metadata": {},
   "outputs": [],
   "source": [
    "l1 = [str(i) for i in l]"
   ]
  },
  {
   "cell_type": "code",
   "execution_count": 15,
   "id": "95bf067a",
   "metadata": {},
   "outputs": [
    {
     "data": {
      "text/plain": [
       "[3, 13, 17, 7]"
      ]
     },
     "execution_count": 15,
     "metadata": {},
     "output_type": "execute_result"
    }
   ],
   "source": [
    "s = []\n",
    "for i in l1:\n",
    "    summation = 0\n",
    "    for j in i:\n",
    "        summation = summation + int(j)\n",
    "    if summation != 0:\n",
    "        s.append(summation)\n",
    "s"
   ]
  },
  {
   "cell_type": "code",
   "execution_count": null,
   "id": "50272482",
   "metadata": {},
   "outputs": [],
   "source": []
  }
 ],
 "metadata": {
  "kernelspec": {
   "display_name": "Python 3 (ipykernel)",
   "language": "python",
   "name": "python3"
  },
  "language_info": {
   "codemirror_mode": {
    "name": "ipython",
    "version": 3
   },
   "file_extension": ".py",
   "mimetype": "text/x-python",
   "name": "python",
   "nbconvert_exporter": "python",
   "pygments_lexer": "ipython3",
   "version": "3.11.3"
  }
 },
 "nbformat": 4,
 "nbformat_minor": 5
}
